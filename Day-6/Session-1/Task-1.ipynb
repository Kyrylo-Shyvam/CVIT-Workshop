{
 "cells": [
  {
   "cell_type": "markdown",
   "metadata": {
    "id": "h6hjehhHW4tC"
   },
   "source": [
    "# Using wandb to track experiments.\n",
    "\n",
    "Demo task: multi-class image classification using CIFAR10 dataset."
   ]
  },
  {
   "cell_type": "code",
   "execution_count": 2,
   "metadata": {
    "id": "OUnLA0ASMK4Z"
   },
   "outputs": [],
   "source": [
    "from sklearn.metrics import average_precision_score\n",
    "from torch.utils.data import DataLoader\n",
    "from torchvision import datasets, models\n",
    "from torchvision import transforms as T\n",
    "from tqdm import tqdm\n",
    "\n",
    "import torch\n",
    "import torch.nn as nn\n",
    "import torch.optim as optim\n",
    "\n",
    "\n",
    "device = torch.device(\"cuda\" if torch.cuda.is_available() else \"cpu\")\n"
   ]
  },
  {
   "cell_type": "markdown",
   "metadata": {
    "id": "s8hEreACXETi"
   },
   "source": [
    "# The next cell includes-\n",
    "- Collecting the CIFAR10 dataset and defining data loaders.\n",
    "- Methods to load model, criterion, optimizer and schedulers.\n",
    "- Definition of AverageMeter"
   ]
  },
  {
   "cell_type": "code",
   "execution_count": 4,
   "metadata": {
    "id": "N0IyFq2jMUTZ"
   },
   "outputs": [
    {
     "name": "stdout",
     "output_type": "stream",
     "text": [
      "Files already downloaded and verified\n"
     ]
    }
   ],
   "source": [
    "# Downloading CIFAR10 dataset\n",
    "inp_transforms = T.Compose([T.ToTensor(),\n",
    "                            T.Normalize(mean=[0.485, 0.456, 0.406],\n",
    "                                        std=[0.229, 0.224, 0.225])])\n",
    "tgt_transforms = T.Lambda(lambda y: torch.zeros(10, dtype=torch.long).scatter_(0, torch.tensor(y), value=1))\n",
    "cifar10 = datasets.CIFAR10(root = \"./\",\n",
    "                           transform = inp_transforms,\n",
    "                           target_transform = tgt_transforms,\n",
    "                           download = True)\n",
    "\n",
    "# Defining dataset split (80-20)\n",
    "train_dataset, val_dataset = torch.utils.data.random_split(cifar10,\n",
    "                                                           [int(len(cifar10)*0.80), int(len(cifar10)*0.20)])\n",
    "\n",
    "# Defining the dataloaders\n",
    "train_dataloader = DataLoader(train_dataset,\n",
    "                              batch_size=200,\n",
    "                              shuffle=True)\n",
    "val_dataloader = DataLoader(val_dataset,\n",
    "                            batch_size=200,\n",
    "                            shuffle=False)\n",
    "\n",
    "\n",
    "# Method to get model based on config param model_type\n",
    "def get_model(model_type):\n",
    "    model = None\n",
    "    if model_type == \"pretrained\": # Loading pretrained ResNet18 and with updated to final fc layer. \n",
    "        model = models.resnet18(pretrained=True)\n",
    "        model.fc = nn.Linear(512, 10)\n",
    "        model = model.to(device)\n",
    "    elif model_type == \"scratch\": # Loading a blank ResNet18 which generated 10 outputs.\n",
    "        model = models.resnet18(num_classes=10)\n",
    "        model = model.to(device)\n",
    "    else:\n",
    "        raise NotImplemented\n",
    "    return model\n",
    "\n",
    "\n",
    "# Method to get criterion, optimizer and scheduler based on config params.\n",
    "def get_criterion_optimizer_scheduler(config, model):\n",
    "    optim_dct = {\n",
    "        \"adam\": optim.Adam,\n",
    "        \"SGD\": optim.SGD,\n",
    "        \"RMSprop\": optim.RMSprop\n",
    "    }\n",
    "    optimizer = optim_dct[config[\"optimizer\"]](model.parameters(), lr=config[\"lr\"])\n",
    "    scheduler = torch.optim.lr_scheduler.ReduceLROnPlateau(optimizer,\n",
    "                                                           factor=0.1,\n",
    "                                                           patience=config[\"scheduler_patience\"],\n",
    "                                                           threshold=config[\"scheduler_thresh\"])\n",
    "    criterion = nn.CrossEntropyLoss()\n",
    "    return criterion, optimizer, scheduler\n",
    "\n",
    "\n",
    "\n",
    "# Remainder of this cell includes definition of AverageMeter (can be ignored)\n",
    "\"\"\"\n",
    "Code taken from Pytorch ImageNet examples\n",
    "https://github.com/pytorch/examples/blob/main/imagenet/main.py#L375\n",
    "\"\"\"\n",
    "class Summary():\n",
    "    NONE = 0\n",
    "    AVERAGE = 1\n",
    "    SUM = 2\n",
    "    COUNT = 3\n",
    "\n",
    "class AverageMeter(object):\n",
    "    \"\"\"Computes and stores the average and current value\"\"\"\n",
    "    def __init__(self, name, fmt=':f', summary_type=Summary.AVERAGE):\n",
    "        self.name = name\n",
    "        self.fmt = fmt\n",
    "        self.summary_type = summary_type\n",
    "        self.val_history = list()\n",
    "        self.reset()\n",
    "\n",
    "    def reset(self):\n",
    "        self.val = 0\n",
    "        self.avg = 0\n",
    "        self.sum = 0\n",
    "        self.count = 0\n",
    "        self.val_history = list()\n",
    "\n",
    "    def update(self, val, n=1):\n",
    "        self.val = val\n",
    "        self.sum += val * n\n",
    "        self.count += n\n",
    "        self.avg = self.sum / self.count\n",
    "        self.val_history.append(val)\n",
    "\n",
    "    def __str__(self):\n",
    "        fmtstr = '{name} {val' + self.fmt + '} ({avg' + self.fmt + '})'\n",
    "        return fmtstr.format(**self.__dict__)\n",
    "    \n",
    "    def summary(self):\n",
    "        fmtstr = ''\n",
    "        if self.summary_type is Summary.NONE:\n",
    "            fmtstr = ''\n",
    "        elif self.summary_type is Summary.AVERAGE:\n",
    "            fmtstr = '{name} {avg:.3f}'\n",
    "        elif self.summary_type is Summary.SUM:\n",
    "            fmtstr = '{name} {sum:.3f}'\n",
    "        elif self.summary_type is Summary.COUNT:\n",
    "            fmtstr = '{name} {count:.3f}'\n",
    "        else:\n",
    "            raise ValueError('invalid summary type %r' % self.summary_type)        \n",
    "        return fmtstr.format(**self.__dict__)\n"
   ]
  },
  {
   "cell_type": "markdown",
   "metadata": {
    "id": "UIEngQlXXfi6"
   },
   "source": [
    "# Following cell includes-\n",
    "- Defining the train and eval loops.\n",
    "- Method to trigger training loops based on config parameters."
   ]
  },
  {
   "cell_type": "code",
   "execution_count": 13,
   "metadata": {
    "id": "jfchRAmxMcoF"
   },
   "outputs": [],
   "source": [
    "# The train function without wandb logging\n",
    "\n",
    "def train(model, criterion, optimizer, scheduler, epochs, train_dataloader, val_dataloader, device):\n",
    "    for epoch in range(epochs):\n",
    "        model.train()\n",
    "        loss_meter = AverageMeter(\"train_loss\", \":.5f\")\n",
    "        epoch_outs, epoch_tgt = list(), list()\n",
    "        for data, tgt_vec in tqdm(train_dataloader):\n",
    "            data, tgt_vec = data.to(device), tgt_vec.to(device)\n",
    "            targets = torch.argmax(tgt_vec, axis=1)\n",
    "            optimizer.zero_grad()\n",
    "            out = model(data)\n",
    "            loss = criterion(out, targets)\n",
    "            loss_meter.update(loss.item(), data.shape[0])\n",
    "            loss.backward()\n",
    "            optimizer.step()\n",
    "            epoch_outs.append(out)\n",
    "            epoch_tgt.append(tgt_vec)\n",
    "        predictions = torch.vstack([torch.softmax(out, axis=1) for out in epoch_outs]).detach().cpu().numpy()\n",
    "        targets = torch.cat([tgt for tgt in epoch_tgt], dim=0).detach().cpu().numpy()\n",
    "        ap_score = average_precision_score(targets, predictions)\n",
    "        eval_loss_meter, eval_ap_score = evaluate(model, criterion, val_dataloader, device)\n",
    "        data_to_log = {\n",
    "            \"epoch\": epoch+1,\n",
    "            \"train_loss\": loss_meter.avg,\n",
    "            \"eval_loss\": eval_loss_meter.avg,\n",
    "            \"train_ap_score\": ap_score,\n",
    "            \"eval_ap_score\": eval_ap_score,\n",
    "            \"lr\": optimizer.state_dict()[\"param_groups\"][0][\"lr\"],\n",
    "        }\n",
    "        wandb.log(data_to_log)\n",
    "        scheduler.step(eval_loss_meter.avg)\n",
    "        print(data_to_log)\n",
    "\n",
    "\n",
    "@torch.no_grad()\n",
    "def evaluate(model, criterion, val_dataloader, device):\n",
    "    model.eval()\n",
    "    loss_meter = AverageMeter(\"eval_loss\", \":.5f\")\n",
    "    epoch_outs, epoch_tgt = list(), list()\n",
    "    for data, tgt_vec in val_dataloader:\n",
    "        data, tgt_vec = data.to(device), tgt_vec.to(device)\n",
    "        targets = torch.argmax(tgt_vec, axis=1)\n",
    "        out = model(data)\n",
    "        loss = criterion(out, targets)\n",
    "        loss_meter.update(loss.item(), data.shape[0])\n",
    "        epoch_outs.append(out)\n",
    "        epoch_tgt.append(tgt_vec)\n",
    "    predictions = torch.vstack([torch.softmax(out, axis=1) for out in epoch_outs]).detach().cpu().numpy()\n",
    "    targets = torch.cat([tgt for tgt in epoch_tgt], dim=0).detach().cpu().numpy()\n",
    "    ap_score = average_precision_score(targets, predictions)\n",
    "    return loss_meter, ap_score\n",
    "\n",
    "\n",
    "def trigger_training(config):\n",
    "    model = get_model(config[\"model_type\"])\n",
    "    criterion, optimizer, scheduler = get_criterion_optimizer_scheduler(config, model)\n",
    "    epochs = config[\"num_epochs\"]\n",
    "\n",
    "    train(model, criterion, optimizer, scheduler, epochs, train_dataloader, val_dataloader, device)\n"
   ]
  },
  {
   "cell_type": "markdown",
   "metadata": {
    "id": "Jtb0ll98YTB0"
   },
   "source": [
    "# Complete the config file, edit the cells in this notebook to log data to wandb and trigger training loops!"
   ]
  },
  {
   "cell_type": "code",
   "execution_count": 41,
   "metadata": {
    "id": "2XWOBnxhMkdl"
   },
   "outputs": [],
   "source": [
    "# Fill the Config file below and log the experiment at wandb\n",
    "config = {\n",
    "    \"lr\": 0.001, \n",
    "    \"model_type\": \"scratch\", # pretrained/scratch\n",
    "    \"optimizer\": \"SGD\", # adam/SGD/RMSprop\n",
    "    \"criterion\": \"ce\",\n",
    "    \"scheduler_patience\": 3,\n",
    "    \"scheduler_thresh\": 0.0001,\n",
    "    \"num_epochs\": 30, # CHANGE\n",
    "    \"gpu_id\": 0,\n",
    "    \"wandb_run_name\": \"2-SGD-final\" ### FILL YOUR NAME HERE\n",
    "}\n"
   ]
  },
  {
   "cell_type": "code",
   "execution_count": 42,
   "metadata": {
    "id": "BLGywkQ4NDMG"
   },
   "outputs": [
    {
     "name": "stderr",
     "output_type": "stream",
     "text": [
      "100%|███████████████████████████████████████████████████████████████████████████████████████████████████████████████████████| 200/200 [00:06<00:00, 31.09it/s]\n"
     ]
    },
    {
     "name": "stdout",
     "output_type": "stream",
     "text": [
      "{'epoch': 1, 'train_loss': 2.1485008335113527, 'eval_loss': 1.9660384631156922, 'train_ap_score': 0.1953362108020245, 'eval_ap_score': 0.2665750828760356, 'lr': 0.001}\n"
     ]
    },
    {
     "name": "stderr",
     "output_type": "stream",
     "text": [
      "100%|███████████████████████████████████████████████████████████████████████████████████████████████████████████████████████| 200/200 [00:06<00:00, 29.91it/s]\n"
     ]
    },
    {
     "name": "stdout",
     "output_type": "stream",
     "text": [
      "{'epoch': 2, 'train_loss': 1.843226251602173, 'eval_loss': 1.7911156368255616, 'train_ap_score': 0.3158394883065685, 'eval_ap_score': 0.3398399494626542, 'lr': 0.001}\n"
     ]
    },
    {
     "name": "stderr",
     "output_type": "stream",
     "text": [
      "100%|███████████████████████████████████████████████████████████████████████████████████████████████████████████████████████| 200/200 [00:06<00:00, 30.62it/s]\n"
     ]
    },
    {
     "name": "stdout",
     "output_type": "stream",
     "text": [
      "{'epoch': 3, 'train_loss': 1.6853881573677063, 'eval_loss': 1.6891206741333007, 'train_ap_score': 0.3845953811329589, 'eval_ap_score': 0.38147522715307286, 'lr': 0.001}\n"
     ]
    },
    {
     "name": "stderr",
     "output_type": "stream",
     "text": [
      "100%|███████████████████████████████████████████████████████████████████████████████████████████████████████████████████████| 200/200 [00:06<00:00, 29.80it/s]\n"
     ]
    },
    {
     "name": "stdout",
     "output_type": "stream",
     "text": [
      "{'epoch': 4, 'train_loss': 1.5837844347953796, 'eval_loss': 1.6250621795654296, 'train_ap_score': 0.43157649659337893, 'eval_ap_score': 0.40938242818533066, 'lr': 0.001}\n"
     ]
    },
    {
     "name": "stderr",
     "output_type": "stream",
     "text": [
      "100%|███████████████████████████████████████████████████████████████████████████████████████████████████████████████████████| 200/200 [00:06<00:00, 29.10it/s]\n"
     ]
    },
    {
     "name": "stdout",
     "output_type": "stream",
     "text": [
      "{'epoch': 5, 'train_loss': 1.5054780840873718, 'eval_loss': 1.5748491668701172, 'train_ap_score': 0.4700009872602573, 'eval_ap_score': 0.43359858699007114, 'lr': 0.001}\n"
     ]
    },
    {
     "name": "stderr",
     "output_type": "stream",
     "text": [
      "100%|███████████████████████████████████████████████████████████████████████████████████████████████████████████████████████| 200/200 [00:06<00:00, 29.56it/s]\n"
     ]
    },
    {
     "name": "stdout",
     "output_type": "stream",
     "text": [
      "{'epoch': 6, 'train_loss': 1.445594495534897, 'eval_loss': 1.5391449165344238, 'train_ap_score': 0.49966607107301575, 'eval_ap_score': 0.448930347765073, 'lr': 0.001}\n"
     ]
    },
    {
     "name": "stderr",
     "output_type": "stream",
     "text": [
      "100%|███████████████████████████████████████████████████████████████████████████████████████████████████████████████████████| 200/200 [00:06<00:00, 29.25it/s]\n"
     ]
    },
    {
     "name": "stdout",
     "output_type": "stream",
     "text": [
      "{'epoch': 7, 'train_loss': 1.3924066418409347, 'eval_loss': 1.5106296491622926, 'train_ap_score': 0.5268410947526834, 'eval_ap_score': 0.46410834793459055, 'lr': 0.001}\n"
     ]
    },
    {
     "name": "stderr",
     "output_type": "stream",
     "text": [
      "100%|███████████████████████████████████████████████████████████████████████████████████████████████████████████████████████| 200/200 [00:06<00:00, 30.19it/s]\n"
     ]
    },
    {
     "name": "stdout",
     "output_type": "stream",
     "text": [
      "{'epoch': 8, 'train_loss': 1.3437018567323684, 'eval_loss': 1.4805212569236756, 'train_ap_score': 0.5508178799680628, 'eval_ap_score': 0.48023072919943866, 'lr': 0.001}\n"
     ]
    },
    {
     "name": "stderr",
     "output_type": "stream",
     "text": [
      "100%|███████████████████████████████████████████████████████████████████████████████████████████████████████████████████████| 200/200 [00:06<00:00, 30.22it/s]\n"
     ]
    },
    {
     "name": "stdout",
     "output_type": "stream",
     "text": [
      "{'epoch': 9, 'train_loss': 1.3023171693086624, 'eval_loss': 1.4639432120323181, 'train_ap_score': 0.5741242255961604, 'eval_ap_score': 0.4876828438743626, 'lr': 0.001}\n"
     ]
    },
    {
     "name": "stderr",
     "output_type": "stream",
     "text": [
      "100%|███████████████████████████████████████████████████████████████████████████████████████████████████████████████████████| 200/200 [00:06<00:00, 30.51it/s]\n"
     ]
    },
    {
     "name": "stdout",
     "output_type": "stream",
     "text": [
      "{'epoch': 10, 'train_loss': 1.2649261993169785, 'eval_loss': 1.4532112169265747, 'train_ap_score': 0.5930134168502191, 'eval_ap_score': 0.49617458588736385, 'lr': 0.001}\n"
     ]
    },
    {
     "name": "stderr",
     "output_type": "stream",
     "text": [
      "100%|███████████████████████████████████████████████████████████████████████████████████████████████████████████████████████| 200/200 [00:06<00:00, 29.58it/s]\n"
     ]
    },
    {
     "name": "stdout",
     "output_type": "stream",
     "text": [
      "{'epoch': 11, 'train_loss': 1.2255076599121093, 'eval_loss': 1.4316606068611144, 'train_ap_score': 0.6138517293729929, 'eval_ap_score': 0.508281303336699, 'lr': 0.001}\n"
     ]
    },
    {
     "name": "stderr",
     "output_type": "stream",
     "text": [
      "100%|███████████████████████████████████████████████████████████████████████████████████████████████████████████████████████| 200/200 [00:06<00:00, 29.46it/s]\n"
     ]
    },
    {
     "name": "stdout",
     "output_type": "stream",
     "text": [
      "{'epoch': 12, 'train_loss': 1.187906939983368, 'eval_loss': 1.4167302083969116, 'train_ap_score': 0.6333751581626108, 'eval_ap_score': 0.5150624600420745, 'lr': 0.001}\n"
     ]
    },
    {
     "name": "stderr",
     "output_type": "stream",
     "text": [
      "100%|███████████████████████████████████████████████████████████████████████████████████████████████████████████████████████| 200/200 [00:07<00:00, 28.02it/s]\n"
     ]
    },
    {
     "name": "stdout",
     "output_type": "stream",
     "text": [
      "{'epoch': 13, 'train_loss': 1.1538493132591248, 'eval_loss': 1.405981056690216, 'train_ap_score': 0.6500014778456162, 'eval_ap_score': 0.5214890184006304, 'lr': 0.001}\n"
     ]
    },
    {
     "name": "stderr",
     "output_type": "stream",
     "text": [
      "100%|███████████████████████████████████████████████████████████████████████████████████████████████████████████████████████| 200/200 [00:06<00:00, 28.62it/s]\n"
     ]
    },
    {
     "name": "stdout",
     "output_type": "stream",
     "text": [
      "{'epoch': 14, 'train_loss': 1.1223119324445725, 'eval_loss': 1.4009325623512268, 'train_ap_score': 0.6659003136225478, 'eval_ap_score': 0.5249317591276552, 'lr': 0.001}\n"
     ]
    },
    {
     "name": "stderr",
     "output_type": "stream",
     "text": [
      "100%|███████████████████████████████████████████████████████████████████████████████████████████████████████████████████████| 200/200 [00:07<00:00, 27.89it/s]\n"
     ]
    },
    {
     "name": "stdout",
     "output_type": "stream",
     "text": [
      "{'epoch': 15, 'train_loss': 1.087004269361496, 'eval_loss': 1.3878858923912047, 'train_ap_score': 0.6830686100632637, 'eval_ap_score': 0.5333743504836443, 'lr': 0.001}\n"
     ]
    },
    {
     "name": "stderr",
     "output_type": "stream",
     "text": [
      "100%|███████████████████████████████████████████████████████████████████████████████████████████████████████████████████████| 200/200 [00:07<00:00, 27.83it/s]\n"
     ]
    },
    {
     "name": "stdout",
     "output_type": "stream",
     "text": [
      "{'epoch': 16, 'train_loss': 1.0518583050370216, 'eval_loss': 1.386347966194153, 'train_ap_score': 0.7001633477503652, 'eval_ap_score': 0.5354295043306126, 'lr': 0.001}\n"
     ]
    },
    {
     "name": "stderr",
     "output_type": "stream",
     "text": [
      "100%|███████████████████████████████████████████████████████████████████████████████████████████████████████████████████████| 200/200 [00:06<00:00, 29.30it/s]\n"
     ]
    },
    {
     "name": "stdout",
     "output_type": "stream",
     "text": [
      "{'epoch': 17, 'train_loss': 1.0224031579494477, 'eval_loss': 1.3785009670257569, 'train_ap_score': 0.7146994177870399, 'eval_ap_score': 0.5395438743125077, 'lr': 0.001}\n"
     ]
    },
    {
     "name": "stderr",
     "output_type": "stream",
     "text": [
      "100%|███████████████████████████████████████████████████████████████████████████████████████████████████████████████████████| 200/200 [00:06<00:00, 29.66it/s]\n"
     ]
    },
    {
     "name": "stdout",
     "output_type": "stream",
     "text": [
      "{'epoch': 18, 'train_loss': 0.9904527333378792, 'eval_loss': 1.374214506149292, 'train_ap_score': 0.7294491381672543, 'eval_ap_score': 0.5437150182180871, 'lr': 0.001}\n"
     ]
    },
    {
     "name": "stderr",
     "output_type": "stream",
     "text": [
      "100%|███████████████████████████████████████████████████████████████████████████████████████████████████████████████████████| 200/200 [00:07<00:00, 28.39it/s]\n"
     ]
    },
    {
     "name": "stdout",
     "output_type": "stream",
     "text": [
      "{'epoch': 19, 'train_loss': 0.9622346946597099, 'eval_loss': 1.3691517090797425, 'train_ap_score': 0.7442196919704089, 'eval_ap_score': 0.5472047457811465, 'lr': 0.001}\n"
     ]
    },
    {
     "name": "stderr",
     "output_type": "stream",
     "text": [
      "100%|███████████████████████████████████████████████████████████████████████████████████████████████████████████████████████| 200/200 [00:07<00:00, 27.83it/s]\n"
     ]
    },
    {
     "name": "stdout",
     "output_type": "stream",
     "text": [
      "{'epoch': 20, 'train_loss': 0.9242797777056694, 'eval_loss': 1.370529944896698, 'train_ap_score': 0.7615228651029022, 'eval_ap_score': 0.5479670854884006, 'lr': 0.001}\n"
     ]
    },
    {
     "name": "stderr",
     "output_type": "stream",
     "text": [
      "100%|███████████████████████████████████████████████████████████████████████████████████████████████████████████████████████| 200/200 [00:07<00:00, 28.34it/s]\n"
     ]
    },
    {
     "name": "stdout",
     "output_type": "stream",
     "text": [
      "{'epoch': 21, 'train_loss': 0.8933922377228737, 'eval_loss': 1.3722400903701781, 'train_ap_score': 0.7753624624656942, 'eval_ap_score': 0.5499355057945055, 'lr': 0.001}\n"
     ]
    },
    {
     "name": "stderr",
     "output_type": "stream",
     "text": [
      "100%|███████████████████████████████████████████████████████████████████████████████████████████████████████████████████████| 200/200 [00:07<00:00, 28.51it/s]\n"
     ]
    },
    {
     "name": "stdout",
     "output_type": "stream",
     "text": [
      "{'epoch': 22, 'train_loss': 0.8635593789815903, 'eval_loss': 1.3690967226028443, 'train_ap_score': 0.7885721277999842, 'eval_ap_score': 0.5540032266970926, 'lr': 0.001}\n"
     ]
    },
    {
     "name": "stderr",
     "output_type": "stream",
     "text": [
      "100%|███████████████████████████████████████████████████████████████████████████████████████████████████████████████████████| 200/200 [00:06<00:00, 28.97it/s]\n"
     ]
    },
    {
     "name": "stdout",
     "output_type": "stream",
     "text": [
      "{'epoch': 23, 'train_loss': 0.8342064049839973, 'eval_loss': 1.3722304010391235, 'train_ap_score': 0.8013926554709243, 'eval_ap_score': 0.5534221352206312, 'lr': 0.001}\n"
     ]
    },
    {
     "name": "stderr",
     "output_type": "stream",
     "text": [
      "100%|███████████████████████████████████████████████████████████████████████████████████████████████████████████████████████| 200/200 [00:06<00:00, 28.87it/s]\n"
     ]
    },
    {
     "name": "stdout",
     "output_type": "stream",
     "text": [
      "{'epoch': 24, 'train_loss': 0.7809086227416993, 'eval_loss': 1.3678875374794006, 'train_ap_score': 0.8276861504733939, 'eval_ap_score': 0.5559052743650975, 'lr': 0.0001}\n"
     ]
    },
    {
     "name": "stderr",
     "output_type": "stream",
     "text": [
      "100%|███████████████████████████████████████████████████████████████████████████████████████████████████████████████████████| 200/200 [00:07<00:00, 28.50it/s]\n"
     ]
    },
    {
     "name": "stdout",
     "output_type": "stream",
     "text": [
      "{'epoch': 25, 'train_loss': 0.774853780567646, 'eval_loss': 1.3699351453781128, 'train_ap_score': 0.8314395091661952, 'eval_ap_score': 0.5555670551235423, 'lr': 0.0001}\n"
     ]
    },
    {
     "name": "stderr",
     "output_type": "stream",
     "text": [
      "100%|███████████████████████████████████████████████████████████████████████████████████████████████████████████████████████| 200/200 [00:06<00:00, 28.60it/s]\n"
     ]
    },
    {
     "name": "stdout",
     "output_type": "stream",
     "text": [
      "{'epoch': 26, 'train_loss': 0.7696298086643218, 'eval_loss': 1.3691083812713623, 'train_ap_score': 0.8330405180357843, 'eval_ap_score': 0.5556700189291575, 'lr': 0.0001}\n"
     ]
    },
    {
     "name": "stderr",
     "output_type": "stream",
     "text": [
      "100%|███████████████████████████████████████████████████████████████████████████████████████████████████████████████████████| 200/200 [00:07<00:00, 28.35it/s]\n"
     ]
    },
    {
     "name": "stdout",
     "output_type": "stream",
     "text": [
      "{'epoch': 27, 'train_loss': 0.7670722490549088, 'eval_loss': 1.368231213092804, 'train_ap_score': 0.8340646618182472, 'eval_ap_score': 0.5562939067756165, 'lr': 0.0001}\n"
     ]
    },
    {
     "name": "stderr",
     "output_type": "stream",
     "text": [
      "100%|███████████████████████████████████████████████████████████████████████████████████████████████████████████████████████| 200/200 [00:07<00:00, 28.00it/s]\n"
     ]
    },
    {
     "name": "stdout",
     "output_type": "stream",
     "text": [
      "{'epoch': 28, 'train_loss': 0.7594921866059303, 'eval_loss': 1.3704845476150513, 'train_ap_score': 0.8381480538899861, 'eval_ap_score': 0.5557577907360629, 'lr': 0.0001}\n"
     ]
    },
    {
     "name": "stderr",
     "output_type": "stream",
     "text": [
      "100%|███████████████████████████████████████████████████████████████████████████████████████████████████████████████████████| 200/200 [00:06<00:00, 28.98it/s]\n"
     ]
    },
    {
     "name": "stdout",
     "output_type": "stream",
     "text": [
      "{'epoch': 29, 'train_loss': 0.7544115936756134, 'eval_loss': 1.370063226222992, 'train_ap_score': 0.8403144836713221, 'eval_ap_score': 0.5566483942611228, 'lr': 1e-05}\n"
     ]
    },
    {
     "name": "stderr",
     "output_type": "stream",
     "text": [
      "100%|███████████████████████████████████████████████████████████████████████████████████████████████████████████████████████| 200/200 [00:07<00:00, 28.15it/s]\n"
     ]
    },
    {
     "name": "stdout",
     "output_type": "stream",
     "text": [
      "{'epoch': 30, 'train_loss': 0.756203075349331, 'eval_loss': 1.3687308955192565, 'train_ap_score': 0.8386781274457087, 'eval_ap_score': 0.5564694287925537, 'lr': 1e-05}\n"
     ]
    }
   ],
   "source": [
    "trigger_training(config)\n"
   ]
  },
  {
   "cell_type": "code",
   "execution_count": null,
   "metadata": {
    "id": "RyGt96kZN60-"
   },
   "outputs": [],
   "source": []
  },
  {
   "cell_type": "code",
   "execution_count": null,
   "metadata": {
    "id": "0RfnKkXnN7Sd"
   },
   "outputs": [],
   "source": []
  },
  {
   "cell_type": "code",
   "execution_count": null,
   "metadata": {
    "id": "7XYU1R7SN7at"
   },
   "outputs": [],
   "source": []
  },
  {
   "cell_type": "code",
   "execution_count": null,
   "metadata": {
    "id": "1u1MT1lHN7id"
   },
   "outputs": [],
   "source": []
  },
  {
   "cell_type": "markdown",
   "metadata": {
    "id": "4br2c7d1N8ya"
   },
   "source": [
    "# WandB Steps"
   ]
  },
  {
   "cell_type": "code",
   "execution_count": 10,
   "metadata": {
    "id": "gg1VnOOBOAGe"
   },
   "outputs": [],
   "source": [
    "### Step 1: Import WandB in your code\n",
    "\n",
    "import wandb\n",
    "\n",
    "### Step 1 ends"
   ]
  },
  {
   "cell_type": "code",
   "execution_count": 38,
   "metadata": {
    "id": "2oIAE7tpOBH_"
   },
   "outputs": [
    {
     "data": {
      "text/html": [
       "Finishing last run (ID:rseu7m4o) before initializing another..."
      ],
      "text/plain": [
       "<IPython.core.display.HTML object>"
      ]
     },
     "metadata": {},
     "output_type": "display_data"
    },
    {
     "data": {
      "text/html": [
       "Waiting for W&B process to finish... <strong style=\"color:green\">(success).</strong>"
      ],
      "text/plain": [
       "<IPython.core.display.HTML object>"
      ]
     },
     "metadata": {},
     "output_type": "display_data"
    },
    {
     "data": {
      "text/html": [
       "<style>\n",
       "    table.wandb td:nth-child(1) { padding: 0 10px; text-align: left ; width: auto;} td:nth-child(2) {text-align: left ; width: 100%}\n",
       "    .wandb-row { display: flex; flex-direction: row; flex-wrap: wrap; justify-content: flex-start; width: 100% }\n",
       "    .wandb-col { display: flex; flex-direction: column; flex-basis: 100%; flex: 1; padding: 10px; }\n",
       "    </style>\n",
       "<div class=\"wandb-row\"><div class=\"wandb-col\"><h3>Run history:</h3><br/><table class=\"wandb\"><tr><td>epoch</td><td>▁▂▃▄▅▅▆▇█</td></tr><tr><td>eval_ap_score</td><td>▁▃▅▅▆▇▇██</td></tr><tr><td>eval_loss</td><td>█▆▄▃▃▂▂▁▁</td></tr><tr><td>lr</td><td>▁▁▁▁▁▁▁▁▁</td></tr><tr><td>train_ap_score</td><td>▁▃▄▅▆▇▇██</td></tr><tr><td>train_loss</td><td>█▆▄▃▃▂▂▁▁</td></tr></table><br/></div><div class=\"wandb-col\"><h3>Run summary:</h3><br/><table class=\"wandb\"><tr><td>epoch</td><td>9</td></tr><tr><td>eval_ap_score</td><td>0.46597</td></tr><tr><td>eval_loss</td><td>1.51406</td></tr><tr><td>lr</td><td>0.001</td></tr><tr><td>train_ap_score</td><td>0.5605</td></tr><tr><td>train_loss</td><td>1.3371</td></tr></table><br/></div></div>"
      ],
      "text/plain": [
       "<IPython.core.display.HTML object>"
      ]
     },
     "metadata": {},
     "output_type": "display_data"
    },
    {
     "data": {
      "text/html": [
       " View run <strong style=\"color:#cdcd00\">distinctive-energy-1</strong> at: <a href='https://wandb.ai/cvit_kyrylo/wandb_demo/runs/rseu7m4o' target=\"_blank\">https://wandb.ai/cvit_kyrylo/wandb_demo/runs/rseu7m4o</a><br/>Synced 5 W&B file(s), 0 media file(s), 0 artifact file(s) and 0 other file(s)"
      ],
      "text/plain": [
       "<IPython.core.display.HTML object>"
      ]
     },
     "metadata": {},
     "output_type": "display_data"
    },
    {
     "data": {
      "text/html": [
       "Find logs at: <code>./wandb/run-20230527_145128-rseu7m4o/logs</code>"
      ],
      "text/plain": [
       "<IPython.core.display.HTML object>"
      ]
     },
     "metadata": {},
     "output_type": "display_data"
    },
    {
     "data": {
      "text/html": [
       "Successfully finished last run (ID:rseu7m4o). Initializing new run:<br/>"
      ],
      "text/plain": [
       "<IPython.core.display.HTML object>"
      ]
     },
     "metadata": {},
     "output_type": "display_data"
    },
    {
     "data": {
      "application/vnd.jupyter.widget-view+json": {
       "model_id": "d2901f3741b74290ac6709a7e20f04e3",
       "version_major": 2,
       "version_minor": 0
      },
      "text/plain": [
       "VBox(children=(Label(value='Waiting for wandb.init()...\\r'), FloatProgress(value=0.01667039038332708, max=1.0)…"
      ]
     },
     "metadata": {},
     "output_type": "display_data"
    },
    {
     "data": {
      "text/html": [
       "Tracking run with wandb version 0.15.3"
      ],
      "text/plain": [
       "<IPython.core.display.HTML object>"
      ]
     },
     "metadata": {},
     "output_type": "display_data"
    },
    {
     "data": {
      "text/html": [
       "Run data is saved locally in <code>/home/kyrylo/Research/CVIT-workshop/Day-6/Session-1/wandb/run-20230527_145316-r497kr7j</code>"
      ],
      "text/plain": [
       "<IPython.core.display.HTML object>"
      ]
     },
     "metadata": {},
     "output_type": "display_data"
    },
    {
     "data": {
      "text/html": [
       "Syncing run <strong><a href='https://wandb.ai/dhruv_sri/wandb_demo/runs/r497kr7j' target=\"_blank\">stoic-disco-2</a></strong> to <a href='https://wandb.ai/dhruv_sri/wandb_demo' target=\"_blank\">Weights & Biases</a> (<a href='https://wandb.me/run' target=\"_blank\">docs</a>)<br/>"
      ],
      "text/plain": [
       "<IPython.core.display.HTML object>"
      ]
     },
     "metadata": {},
     "output_type": "display_data"
    },
    {
     "data": {
      "text/html": [
       " View project at <a href='https://wandb.ai/dhruv_sri/wandb_demo' target=\"_blank\">https://wandb.ai/dhruv_sri/wandb_demo</a>"
      ],
      "text/plain": [
       "<IPython.core.display.HTML object>"
      ]
     },
     "metadata": {},
     "output_type": "display_data"
    },
    {
     "data": {
      "text/html": [
       " View run at <a href='https://wandb.ai/dhruv_sri/wandb_demo/runs/r497kr7j' target=\"_blank\">https://wandb.ai/dhruv_sri/wandb_demo/runs/r497kr7j</a>"
      ],
      "text/plain": [
       "<IPython.core.display.HTML object>"
      ]
     },
     "metadata": {},
     "output_type": "display_data"
    }
   ],
   "source": [
    "### Step 2:\n",
    "# Initiate wandb in your script. The moment we trigger wandb.init(), an active\n",
    "# socket connection is established between your machine and wandb server.\n",
    "# We specify the entity (wandb username) and project (which wandb project to use for logging)\n",
    "\n",
    "wandb.init(entity = \"dhruv_sri\",   # wandb username. (NOT REQUIRED ARG. ANYMORE, it fetches from initial login)\n",
    "           project = \"wandb_demo\", # wandb project name. New project will be created if given project is missing.\n",
    "           config = config         # Config dict\n",
    "          )\n",
    "wandb.run.name = config[\"wandb_run_name\"]\n",
    "\n",
    "### Step 2 ends.\n"
   ]
  },
  {
   "cell_type": "code",
   "execution_count": 12,
   "metadata": {
    "id": "P_c8_juPOC6o"
   },
   "outputs": [
    {
     "ename": "NameError",
     "evalue": "name 'data_to_log' is not defined",
     "output_type": "error",
     "traceback": [
      "\u001b[0;31m---------------------------------------------------------------------------\u001b[0m",
      "\u001b[0;31mNameError\u001b[0m                                 Traceback (most recent call last)",
      "Input \u001b[0;32mIn [12]\u001b[0m, in \u001b[0;36m<cell line: 4>\u001b[0;34m()\u001b[0m\n\u001b[1;32m      1\u001b[0m \u001b[38;5;66;03m### Step 3: Trigger wandb log\u001b[39;00m\n\u001b[1;32m      2\u001b[0m \u001b[38;5;66;03m# This step is responsible for sending the logs to wandb\u001b[39;00m\n\u001b[0;32m----> 4\u001b[0m wandb\u001b[38;5;241m.\u001b[39mlog(\u001b[43mdata_to_log\u001b[49m)\n",
      "\u001b[0;31mNameError\u001b[0m: name 'data_to_log' is not defined"
     ]
    }
   ],
   "source": [
    "### Step 3: Trigger wandb log\n",
    "# This step is responsible for sending the logs to wandb\n",
    "\n",
    "# evaluate()\n",
    "wandb.log(data_to_log)\n",
    "\n",
    "### Step 3 ends.\n"
   ]
  },
  {
   "cell_type": "code",
   "execution_count": null,
   "metadata": {
    "id": "JnQzf5xHOEKR"
   },
   "outputs": [],
   "source": [
    "### Step 4 (Optional)\n",
    "# This closes the active socket connection to wandb server. Optional since wandb destructor does the same.\n",
    "\n",
    "wandb.finish()\n",
    "\n",
    "### Step 4 ends.\n"
   ]
  },
  {
   "cell_type": "code",
   "execution_count": null,
   "metadata": {
    "id": "-fQ5XateZfx3"
   },
   "outputs": [],
   "source": []
  },
  {
   "cell_type": "code",
   "execution_count": null,
   "metadata": {
    "id": "GY131mhVZfvc"
   },
   "outputs": [],
   "source": []
  },
  {
   "cell_type": "markdown",
   "metadata": {
    "id": "UiUK11qqZQZS"
   },
   "source": [
    "# WandB sweeps related steps"
   ]
  },
  {
   "cell_type": "code",
   "execution_count": 18,
   "metadata": {
    "id": "tMbRxfDwZT8r"
   },
   "outputs": [
    {
     "ename": "SyntaxError",
     "evalue": "invalid syntax (3096734612.py, line 6)",
     "output_type": "error",
     "traceback": [
      "\u001b[0;36m  Input \u001b[0;32mIn [18]\u001b[0;36m\u001b[0m\n\u001b[0;31m    metric:\u001b[0m\n\u001b[0m           ^\u001b[0m\n\u001b[0;31mSyntaxError\u001b[0m\u001b[0;31m:\u001b[0m invalid syntax\n"
     ]
    }
   ],
   "source": [
    "### Step 1:\n",
    "# Create a WandB sweep config file.\n",
    "# This config file will be used at the WandB website to initialize a sweep server\n",
    "program: \"demo.py\"\n",
    "method: \"grid\"\n",
    "metric:\n",
    "  name: \"eval_ap_score\"\n",
    "  goal: \"maximize\"\n",
    "parameters:\n",
    "    criterion:\n",
    "      value: \"ce\"\n",
    "    gpu_id:\n",
    "      value: 0\n",
    "    lr:\n",
    "      values: [0.1, 0.001, 0.0001]\n",
    "    model_type:\n",
    "      values: [\"scratch\", \"pretrained\"]\n",
    "    num_epochs:\n",
    "      value: 25\n",
    "    optimizer:\n",
    "      values: [\"adam\", \"SGD\", \"RMSprop\"]\n",
    "    scheduler_patience:\n",
    "      value: 3\n",
    "    scheduler_thresh:\n",
    "      value: 0.01\n",
    "\n",
    "        \n",
    "### A sample sweep config file if bayes method is used-\n",
    "# program: wandb_demo.py\n",
    "# method: bayes\n",
    "# metric:\n",
    "#   name: \"eval_ap_score\"\n",
    "#   goal: maximize\n",
    "# parameters:\n",
    "#   lr:\n",
    "#     distribution: uniform\n",
    "#     min: 0.00001\n",
    "#     max: 0.1\n",
    "#   criterion:\n",
    "#     distribution: categorical\n",
    "#     value:\n",
    "#       - ce\n",
    "#   optimizer:\n",
    "#     distribution: categorical\n",
    "#     values:\n",
    "#       - adam\n",
    "#       - SGD\n",
    "#       - RMSprop\n",
    "#   model_type:\n",
    "#     distribution: categorical\n",
    "#     values:\n",
    "#       - pretrained\n",
    "#       - scratch\n",
    "#   num_epochs:\n",
    "#     value:\n",
    "#       - 30\n",
    "#   scheduler_thresh:\n",
    "#     distribution: uniform\n",
    "#     min: 0.001\n",
    "#     max: 0.01\n",
    "#   scheduler_patience:\n",
    "#     distribution: int_uniform\n",
    "#     min: 2\n",
    "#     max: 10\n"
   ]
  },
  {
   "cell_type": "code",
   "execution_count": null,
   "metadata": {
    "id": "8yEkgDnGZT2X"
   },
   "outputs": [],
   "source": [
    "### Step 2\n",
    "# After using the above config on wandb website, you will get a sweep id in return.\n",
    "# E.g. sweep id- dhruv_sri/wandb_demo/hbyp0tl8\n",
    "#\n",
    "# Add the following agent line in your code-\n",
    "# Use the generated sweep id in the below code\n",
    "\n",
    "wandb.agent(sweep_id=\"### FILL SWEEP ID HERE ###\", function=sweep_agent_manager, count=100)\n"
   ]
  },
  {
   "cell_type": "code",
   "execution_count": null,
   "metadata": {
    "id": "bqY9TPyJZTx1"
   },
   "outputs": [],
   "source": [
    "### Step 3\n",
    "# Notice in above command we mentioned an argument named \"function\"\n",
    "# Wandb agents must trigger a function where they can initiate a socket to wandb and get a config.\n",
    "# So, we will use the following sweep_agent_manager function here-\n",
    "\n",
    "def sweep_agent_manager():\n",
    "    wandb.init()\n",
    "    config = dict(wandb.config)\n",
    "    run_name = f\"{config['model_type']}_{config['optimizer']}_{config['lr']}\"\n",
    "    wandb.run.name = run_name\n",
    "    trigger_training(config)\n"
   ]
  },
  {
   "cell_type": "code",
   "execution_count": null,
   "metadata": {
    "id": "alHqJ4mQZTtM"
   },
   "outputs": [],
   "source": [
    "### Done.\n",
    "# Now execute your training script on multiple machines.\n",
    "# Each run will request the config file from wandb and related experiments will be logged.\n",
    "# \n",
    "# NOTE!! wandb.log(data_to_log) must be present inside the code!! Else there is no meaning to sweep.\n"
   ]
  },
  {
   "cell_type": "markdown",
   "metadata": {
    "id": "aNIxPqn_OGTU"
   },
   "source": [
    "# ------------------------------ Ends ------------------------------"
   ]
  }
 ],
 "metadata": {
  "accelerator": "GPU",
  "colab": {
   "provenance": []
  },
  "gpuClass": "standard",
  "kernelspec": {
   "display_name": "Python 3 (ipykernel)",
   "language": "python",
   "name": "python3"
  },
  "language_info": {
   "codemirror_mode": {
    "name": "ipython",
    "version": 3
   },
   "file_extension": ".py",
   "mimetype": "text/x-python",
   "name": "python",
   "nbconvert_exporter": "python",
   "pygments_lexer": "ipython3",
   "version": "3.8.10"
  }
 },
 "nbformat": 4,
 "nbformat_minor": 1
}
