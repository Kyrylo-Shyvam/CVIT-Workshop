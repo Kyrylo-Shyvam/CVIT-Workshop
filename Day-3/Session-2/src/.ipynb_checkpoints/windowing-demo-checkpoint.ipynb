{
 "cells": [
  {
   "cell_type": "markdown",
   "metadata": {},
   "source": [
    "## CT Scans and Windowing"
   ]
  },
  {
   "cell_type": "code",
   "execution_count": 1,
   "metadata": {},
   "outputs": [
    {
     "ename": "ModuleNotFoundError",
     "evalue": "No module named 'pydicom'",
     "output_type": "error",
     "traceback": [
      "\u001b[0;31m---------------------------------------------------------------------------\u001b[0m",
      "\u001b[0;31mModuleNotFoundError\u001b[0m                       Traceback (most recent call last)",
      "Input \u001b[0;32mIn [1]\u001b[0m, in \u001b[0;36m<cell line: 1>\u001b[0;34m()\u001b[0m\n\u001b[0;32m----> 1\u001b[0m \u001b[38;5;28;01mimport\u001b[39;00m \u001b[38;5;21;01mpydicom\u001b[39;00m \u001b[38;5;28;01mas\u001b[39;00m \u001b[38;5;21;01mdicom\u001b[39;00m\n\u001b[1;32m      2\u001b[0m \u001b[38;5;28;01mimport\u001b[39;00m \u001b[38;5;21;01mglob\u001b[39;00m\n\u001b[1;32m      3\u001b[0m \u001b[38;5;28;01mimport\u001b[39;00m \u001b[38;5;21;01mmatplotlib\u001b[39;00m\u001b[38;5;21;01m.\u001b[39;00m\u001b[38;5;21;01mpyplot\u001b[39;00m \u001b[38;5;28;01mas\u001b[39;00m \u001b[38;5;21;01mplt\u001b[39;00m\n",
      "\u001b[0;31mModuleNotFoundError\u001b[0m: No module named 'pydicom'"
     ]
    }
   ],
   "source": [
    "import pydicom as dicom\n",
    "import glob\n",
    "import matplotlib.pyplot as plt\n",
    "import numpy as np\n",
    "import cv2\n",
    "\n",
    "dataset = []\n",
    "for f in sorted(glob.glob(\"../data/windowing/Lung-CT-Series/*\")):\n",
    "    x = dicom.dcmread(f)\n",
    "    dataset.append(x)\n"
   ]
  },
  {
   "cell_type": "code",
   "execution_count": null,
   "metadata": {},
   "outputs": [],
   "source": [
    "dataset = sorted(dataset, key=lambda d: d.ImagePositionPatient[2]) # sorted by last attribute as that was the one that was changing the most\n",
    "\n",
    "# obtain the pixel spacing from the dataset\n",
    "PixelSpacing = \n",
    "# obtain the slice thickness from the dataset\n",
    "SliceThickness = \n",
    "\n",
    "# calculate the axial aspect ratio based on the values you found above: aspect = (column spacing / row spacing)\n",
    "ax_aspect =  # axial aspect \n",
    "\n",
    "\n",
    "shape = list(dataset[0].pixel_array.shape)\n",
    "shape.append(len(dataset))\n",
    "img_3D = np.zeros(shape)\n",
    "\n",
    "for i, s in enumerate(dataset):\n",
    "    img_3D[: , : , i] = s.pixel_array"
   ]
  },
  {
   "cell_type": "markdown",
   "metadata": {},
   "source": [
    "### Perform windowing for lungs, mediastinum and bones\n",
    " - Find out what window levels are required for viewing each of the above optimally\n",
    " - Note down your observations in the observation cell provided, in it describe what all can you see in each of the 3 views and how it differs from the normal image without windowing"
   ]
  },
  {
   "cell_type": "code",
   "execution_count": null,
   "metadata": {},
   "outputs": [],
   "source": [
    "# In the following code, fill in the window level and window width values which will allow you to optimally view the lungs, mediastinum and bones respectively\n",
    "\n",
    "fig, ax = plt.subplots(1,3, figsize=(15,15))\n",
    "\n",
    "# lungs\n",
    "# set window parameters\n",
    "window_level = \n",
    "window_width = \n",
    "# calculate max and min visible pixel values such that the max visible pixel is half a window width more than window level\n",
    "# and the min visible pixel is half a window width less than window level\n",
    "max_visible_pixel = \n",
    "min_visible_pixel =\n",
    "# windowed 3D image \n",
    "windowed = img_3D\n",
    "# set all pixels less than min visible pixel to 0 in the variable windowed\n",
    "# Hint: np.where\n",
    "windowed = \n",
    "# set all pixels greater than max visible pixel to 255 in the variable windowed\n",
    "windowed = \n",
    "# perform contrast stretching on the windowed image using interpolation such that the min visible pixel is mapped to 0 and the max visible pixel is mapped to 255 \n",
    "# Hint: np.interp\n",
    "windowed = \n",
    "\n",
    "# plot the windowed image, you don't need to change anything here\n",
    "a1 = plt.subplot(1,3,1)\n",
    "plt.title(\"Axial Lungs View\")\n",
    "plt.imshow(windowed[:, :, windowed.shape[2]//2], cmap=\"gray\")\n",
    "a1.set_aspect(ax_aspect)\n",
    "\n",
    "# mediastinum\n",
    "# set window parameters\n",
    "window_level = \n",
    "window_width = \n",
    "# calculate max and min visible pixel values such that the max visible pixel is half a window width more than window level\n",
    "# and the min visible pixel is half a window width less than window level\n",
    "max_visible_pixel = \n",
    "min_visible_pixel =\n",
    "# windowed 3D image \n",
    "windowed = img_3D\n",
    "# set all pixels less than min visible pixel to 0 in the variable windowed\n",
    "# Hint: np.where\n",
    "windowed = \n",
    "# set all pixels greater than max visible pixel to 255 in the variable windowed\n",
    "windowed = \n",
    "# perform contrast stretching on the windowed image using interpolation such that the min visible pixel is mapped to 0 and the max visible pixel is mapped to 255 \n",
    "# Hint: np.interp\n",
    "windowed = \n",
    "\n",
    "# plot the windowed image, you don't need to change anything here\n",
    "a2 = plt.subplot(1,3,2)\n",
    "plt.title(\"Axial Mediastinum View\")\n",
    "plt.imshow(windowed[:, :, windowed.shape[2]//2], cmap=\"gray\")\n",
    "a2.set_aspect(ax_aspect)\n",
    "\n",
    "# bones\n",
    "window_level = 400\n",
    "# set window parameters\n",
    "window_level = \n",
    "window_width = \n",
    "# calculate max and min visible pixel values such that the max visible pixel is half a window width more than window level\n",
    "# and the min visible pixel is half a window width less than window level\n",
    "max_visible_pixel = \n",
    "min_visible_pixel =\n",
    "# windowed 3D image \n",
    "windowed = img_3D\n",
    "# set all pixels less than min visible pixel to 0 in the variable windowed\n",
    "# Hint: np.where\n",
    "windowed = \n",
    "# set all pixels greater than max visible pixel to 255 in the variable windowed\n",
    "windowed = \n",
    "# perform contrast stretching on the windowed image using interpolation such that the min visible pixel is mapped to 0 and the max visible pixel is mapped to 255 \n",
    "# Hint: np.interp\n",
    "windowed = \n",
    "\n",
    "# plot the windowed image, you don't need to change anything here\n",
    "a3 = plt.subplot(1,3,3)\n",
    "plt.title(\"Axial Bones View\")\n",
    "plt.imshow(windowed[:, :, windowed.shape[2]//2], cmap=\"gray\")\n",
    "a3.set_aspect(ax_aspect)\n",
    "\n",
    "plt.show()"
   ]
  },
  {
   "cell_type": "markdown",
   "metadata": {},
   "source": [
    "#### Observations\n",
    " - Note down your observations here, double click to edit"
   ]
  },
  {
   "cell_type": "code",
   "execution_count": null,
   "metadata": {},
   "outputs": [],
   "source": [
    "# similar to previous case, calculate axial, coronal and saggital aspect ratios\n",
    "ax_aspect =  # axial aspect \n",
    "sag_aspect = # saggital aspect\n",
    "cor_aspect =  # coronal aspect\n",
    "\n",
    "# plot axial coronal and saggital slices of a middle slice \n",
    "plt.figure(figsize=(15,15))\n",
    "a1 = plt.subplot(1,3,1)\n",
    "plt.title(\"Axial View\")\n",
    "# obtain the middle axial slice from img_3D variable and store it in axial_slice\n",
    "axial_slice = \n",
    "plt.imshow(axial_slice, cmap=\"gray\")\n",
    "a1.set_aspect(ax_aspect)\n",
    "\n",
    "\n",
    "a2 = plt.subplot(1,3,2)\n",
    "plt.title(\"Coronal View\")\n",
    "# obtain the middle coronal slice from img_3D variable and store it in coronal_slice (Hint: use transpose after slicing)\n",
    "coronal_slice = \n",
    "plt.imshow(coronal_slice, cmap=\"gray\")\n",
    "a2.set_aspect(cor_aspect)\n",
    "\n",
    "a3 = plt.subplot(1,3,3)\n",
    "plt.title(\"Sagittal View\")\n",
    "# obtain the middle sagittal slice from img_3D variable and store it in sagittal_slice \n",
    "sagittal_slice = \n",
    "plt.imshow(sagittal_slice, cmap=\"gray\")\n",
    "a3.set_aspect(sag_aspect)\n",
    "\n",
    "plt.show()\n"
   ]
  },
  {
   "cell_type": "markdown",
   "metadata": {},
   "source": [
    "### What view does each of the following correspond to? (i.e., side view or back view, etc.)\n",
    " #### Ans.\n",
    "### Which part of the body is visible in the above (eg: legs, arms, chest?)\n",
    " #### Ans.\n",
    "### Have these images been windowed?\n",
    " #### Ans.\n",
    "\n",
    " - Answer the above questions. Compare the three views you obtained with the images in the results folder inside data. (double click to edit.) "
   ]
  }
 ],
 "metadata": {
  "kernelspec": {
   "display_name": "Python 3 (ipykernel)",
   "language": "python",
   "name": "python3"
  },
  "language_info": {
   "codemirror_mode": {
    "name": "ipython",
    "version": 3
   },
   "file_extension": ".py",
   "mimetype": "text/x-python",
   "name": "python",
   "nbconvert_exporter": "python",
   "pygments_lexer": "ipython3",
   "version": "3.8.10"
  },
  "vscode": {
   "interpreter": {
    "hash": "e7370f93d1d0cde622a1f8e1c04877d8463912d04d973331ad4851f04de6915a"
   }
  }
 },
 "nbformat": 4,
 "nbformat_minor": 2
}
